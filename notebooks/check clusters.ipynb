{
 "cells": [
  {
   "cell_type": "code",
   "execution_count": 2,
   "id": "cf69cd65-625b-47be-98df-85394181b7ea",
   "metadata": {},
   "outputs": [],
   "source": [
    "from pathlib import Path\n",
    "import os\n",
    "from datasets import load_dataset"
   ]
  },
  {
   "cell_type": "code",
   "execution_count": 3,
   "id": "eb888ad5-a1c3-44ca-9926-d7203ed88606",
   "metadata": {},
   "outputs": [
    {
     "data": {
      "text/plain": [
       "'/mnt/f/chatbot_ui_v4/local_only/data'"
      ]
     },
     "execution_count": 3,
     "metadata": {},
     "output_type": "execute_result"
    }
   ],
   "source": [
    "CACHE_DIR = os.path.join(Path(os.getcwd()).resolve().parents[0] , \"local_only\", \"data\")\n",
    "os.makedirs(CACHE_DIR, exist_ok=True)\n",
    "DATASET_NAME = \"nlphuji/flickr30k\"\n",
    "CACHE_DIR"
   ]
  },
  {
   "cell_type": "code",
   "execution_count": 4,
   "id": "55e84a2d-d9b8-4351-bb05-47f6086de737",
   "metadata": {},
   "outputs": [],
   "source": [
    "def download_flickr30k_dataset(dataset_name, download_location=None):\n",
    "    dataset = load_dataset(dataset_name, cache_dir=download_location)\n",
    "    return dataset"
   ]
  },
  {
   "cell_type": "code",
   "execution_count": 5,
   "id": "2cec2352-cd8b-4c68-8d20-7a02ec65fd3c",
   "metadata": {},
   "outputs": [],
   "source": [
    "dataset = download_flickr30k_dataset(dataset_name = DATASET_NAME, download_location = CACHE_DIR)"
   ]
  },
  {
   "cell_type": "code",
   "execution_count": 7,
   "id": "7478ae1e-8653-4326-ad61-e02d4030f53c",
   "metadata": {},
   "outputs": [
    {
     "data": {
      "text/plain": [
       "DatasetDict({\n",
       "    test: Dataset({\n",
       "        features: ['image', 'caption', 'sentids', 'split', 'img_id', 'filename'],\n",
       "        num_rows: 31014\n",
       "    })\n",
       "})"
      ]
     },
     "execution_count": 7,
     "metadata": {},
     "output_type": "execute_result"
    }
   ],
   "source": [
    "dataset"
   ]
  },
  {
   "cell_type": "code",
   "execution_count": 8,
   "id": "00410edf-7f6c-4c4e-b955-420c53f117de",
   "metadata": {},
   "outputs": [],
   "source": [
    "from pymongo import MongoClient, ASCENDING, UpdateOne\n",
    "\n",
    "def get_mongo_db_client():\n",
    "    client = MongoClient(\"mongodb://localhost:27017/\")\n",
    "    assert client.admin.command(\"ping\") == {'ok': 1.0}\n",
    "    return client"
   ]
  },
  {
   "cell_type": "code",
   "execution_count": 9,
   "id": "1cd55292-c4fd-4ba7-80f5-0c538e6059f8",
   "metadata": {},
   "outputs": [],
   "source": [
    "mongo_client  = get_mongo_db_client()"
   ]
  },
  {
   "cell_type": "code",
   "execution_count": 12,
   "id": "7feefa07-73c7-493c-b98f-ea6b700be1fe",
   "metadata": {},
   "outputs": [
    {
     "data": {
      "text/plain": [
       "['admin',\n",
       " 'agent_evaluation_db',\n",
       " 'chatbot_ui_v3',\n",
       " 'chatbot_ui_v4',\n",
       " 'config',\n",
       " 'local']"
      ]
     },
     "execution_count": 12,
     "metadata": {},
     "output_type": "execute_result"
    }
   ],
   "source": [
    "mongo_client.list_database_names()"
   ]
  },
  {
   "cell_type": "code",
   "execution_count": 14,
   "id": "2dce2db1-3eae-408a-8873-99ecab94d919",
   "metadata": {},
   "outputs": [
    {
     "data": {
      "text/plain": [
       "['caption']"
      ]
     },
     "execution_count": 14,
     "metadata": {},
     "output_type": "execute_result"
    }
   ],
   "source": [
    "database = mongo_client['chatbot_ui_v4']  \n",
    "database.list_collection_names()"
   ]
  },
  {
   "cell_type": "code",
   "execution_count": 22,
   "id": "df5c586a-ae0a-47fe-97b9-349795ef9270",
   "metadata": {},
   "outputs": [
    {
     "data": {
      "text/plain": [
       "155070"
      ]
     },
     "execution_count": 22,
     "metadata": {},
     "output_type": "execute_result"
    }
   ],
   "source": [
    "collection = database['caption']\n",
    "collection.count_documents({})"
   ]
  },
  {
   "cell_type": "code",
   "execution_count": 18,
   "id": "ba165a29-9dc6-48dc-a94c-61e49745eadb",
   "metadata": {},
   "outputs": [
    {
     "name": "stdout",
     "output_type": "stream",
     "text": [
      "{'_id': ObjectId('686b569ddc158f44299de34d'), 'sent_id': '0', 'caption': 'Two young guys with shaggy hair look at their hands while hanging out in the yard.', 'filename': '1000092795.jpg', 'img_id': '0'}\n",
      "{'_id': ObjectId('686b569ddc158f44299de34e'), 'sent_id': '1', 'caption': 'Two young, White males are outside near many bushes.', 'filename': '1000092795.jpg', 'img_id': '0'}\n",
      "{'_id': ObjectId('686b569ddc158f44299de34f'), 'sent_id': '2', 'caption': 'Two men in green shirts are standing in a yard.', 'filename': '1000092795.jpg', 'img_id': '0'}\n",
      "{'_id': ObjectId('686b569ddc158f44299de350'), 'sent_id': '3', 'caption': 'A man in a blue shirt standing in a garden.', 'filename': '1000092795.jpg', 'img_id': '0'}\n",
      "{'_id': ObjectId('686b569ddc158f44299de351'), 'sent_id': '4', 'caption': 'Two friends enjoy time spent together.', 'filename': '1000092795.jpg', 'img_id': '0'}\n",
      "{'_id': ObjectId('686b569ddc158f44299de352'), 'sent_id': '5', 'caption': 'Several men in hard hats are operating a giant pulley system.', 'filename': '10002456.jpg', 'img_id': '1'}\n",
      "{'_id': ObjectId('686b569ddc158f44299de353'), 'sent_id': '6', 'caption': 'Workers look down from up above on a piece of equipment.', 'filename': '10002456.jpg', 'img_id': '1'}\n",
      "{'_id': ObjectId('686b569ddc158f44299de354'), 'sent_id': '7', 'caption': 'Two men working on a machine wearing hard hats.', 'filename': '10002456.jpg', 'img_id': '1'}\n",
      "{'_id': ObjectId('686b569ddc158f44299de355'), 'sent_id': '8', 'caption': 'Four men on top of a tall structure.', 'filename': '10002456.jpg', 'img_id': '1'}\n",
      "{'_id': ObjectId('686b569ddc158f44299de356'), 'sent_id': '9', 'caption': 'Three men on a large rig.', 'filename': '10002456.jpg', 'img_id': '1'}\n"
     ]
    }
   ],
   "source": [
    "docs = collection.find().limit(10)\n",
    "for doc in docs:\n",
    "    print(doc)"
   ]
  },
  {
   "cell_type": "code",
   "execution_count": 1,
   "id": "9c976993-6725-44ee-b1f4-57281348d00e",
   "metadata": {},
   "outputs": [],
   "source": [
    "from keybert import KeyBERT\n",
    "from sentence_transformers import SentenceTransformer\n",
    "\n",
    "sentence_model = SentenceTransformer(\"all-MiniLM-L6-v2\", local_files_only=True)\n",
    "kw_model = KeyBERT(model=sentence_model)"
   ]
  },
  {
   "cell_type": "code",
   "execution_count": 20,
   "id": "1c56daa2-0219-42aa-be71-0d3c89e6e9ab",
   "metadata": {},
   "outputs": [
    {
     "name": "stdout",
     "output_type": "stream",
     "text": [
      "CPU times: user 1.1 s, sys: 109 ms, total: 1.2 s\n",
      "Wall time: 1.18 s\n"
     ]
    }
   ],
   "source": [
    "%%time\n",
    "all_keywords = []\n",
    "\n",
    "for record in collection.find().limit(100):\n",
    "    caption = record['caption']\n",
    "    keywords = kw_model.extract_keywords(caption, stop_words='english', top_n=2)\n",
    "    all_keywords.extend([kw[0] for kw in keywords])"
   ]
  },
  {
   "cell_type": "code",
   "execution_count": 32,
   "id": "11578c4f-a518-4e20-ab26-3b1b30f0a8d5",
   "metadata": {},
   "outputs": [],
   "source": [
    "unique_keywords = set(all_keywords)"
   ]
  },
  {
   "cell_type": "code",
   "execution_count": null,
   "id": "c38b5fe0-bd05-4d02-9c69-c033e14c8d21",
   "metadata": {},
   "outputs": [],
   "source": []
  },
  {
   "cell_type": "code",
   "execution_count": 47,
   "id": "11fa4907-ccfd-4fdc-8bf9-d81420a4d1db",
   "metadata": {},
   "outputs": [],
   "source": [
    "keyword_caption_pairs = []  # Stores tuples of (keyword, caption)\n",
    "\n",
    "for record in collection.find().limit(100):\n",
    "    caption = record['caption']\n",
    "    keywords = kw_model.extract_keywords(caption, stop_words='english', top_n=2, use_maxsum=True,  # Optional, ensures diversity\n",
    "        nr_candidates=20, keyphrase_ngram_range=(1, 2) ) # Focus on 2 to 3 word phrases)\n",
    "    for kw in keywords:\n",
    "        keyword_caption_pairs.append((kw[0], caption))\n"
   ]
  },
  {
   "cell_type": "code",
   "execution_count": 48,
   "id": "e62986f9-1080-4bc1-beb4-6fa898042de9",
   "metadata": {},
   "outputs": [
    {
     "data": {
      "text/plain": [
       "[('look',\n",
       "  'Two young guys with shaggy hair look at their hands while hanging out in the yard.'),\n",
       " ('hanging yard',\n",
       "  'Two young guys with shaggy hair look at their hands while hanging out in the yard.'),\n",
       " ('near', 'Two young, White males are outside near many bushes.'),\n",
       " ('males outside', 'Two young, White males are outside near many bushes.'),\n",
       " ('yard', 'Two men in green shirts are standing in a yard.'),\n",
       " ('shirts standing', 'Two men in green shirts are standing in a yard.'),\n",
       " ('shirt standing', 'A man in a blue shirt standing in a garden.'),\n",
       " ('garden', 'A man in a blue shirt standing in a garden.'),\n",
       " ('spent', 'Two friends enjoy time spent together.'),\n",
       " ('friends enjoy', 'Two friends enjoy time spent together.'),\n",
       " ('hard', 'Several men in hard hats are operating a giant pulley system.'),\n",
       " ('hats operating',\n",
       "  'Several men in hard hats are operating a giant pulley system.'),\n",
       " ('equipment', 'Workers look down from up above on a piece of equipment.'),\n",
       " ('workers look', 'Workers look down from up above on a piece of equipment.'),\n",
       " ('hard', 'Two men working on a machine wearing hard hats.'),\n",
       " ('men working', 'Two men working on a machine wearing hard hats.'),\n",
       " ('structure', 'Four men on top of a tall structure.'),\n",
       " ('men tall', 'Four men on top of a tall structure.'),\n",
       " ('rig', 'Three men on a large rig.'),\n",
       " ('men large', 'Three men on a large rig.'),\n",
       " ('entry way',\n",
       "  'A child in a pink dress is climbing up a set of stairs in an entry way.'),\n",
       " ('child pink',\n",
       "  'A child in a pink dress is climbing up a set of stairs in an entry way.'),\n",
       " ('little', 'A little girl in a pink dress going into a wooden cabin.'),\n",
       " ('wooden cabin', 'A little girl in a pink dress going into a wooden cabin.'),\n",
       " ('little', 'A little girl climbing the stairs to her playhouse.'),\n",
       " ('girl climbing', 'A little girl climbing the stairs to her playhouse.'),\n",
       " ('little', 'A little girl climbing into a wooden playhouse.'),\n",
       " ('girl climbing', 'A little girl climbing into a wooden playhouse.'),\n",
       " ('wooden building', 'A girl going into a wooden building.'),\n",
       " ('girl going', 'A girl going into a wooden building.'),\n",
       " ('hat',\n",
       "  'Someone in a blue shirt and hat is standing on stair and leaning against a window.'),\n",
       " ('standing stair',\n",
       "  'Someone in a blue shirt and hat is standing on stair and leaning against a window.'),\n",
       " ('standing',\n",
       "  'A man in a blue shirt is standing on a ladder cleaning a window.'),\n",
       " ('cleaning window',\n",
       "  'A man in a blue shirt is standing on a ladder cleaning a window.'),\n",
       " ('man', 'A man on a ladder cleans the window of a tall building.'),\n",
       " ('ladder cleans', 'A man on a ladder cleans the window of a tall building.'),\n",
       " ('man blue', 'Man in blue shirt and jeans on ladder cleaning windows'),\n",
       " ('ladder cleaning', 'Man in blue shirt and jeans on ladder cleaning windows'),\n",
       " ('man', 'A man on a ladder cleans a window'),\n",
       " ('ladder cleans', 'A man on a ladder cleans a window'),\n",
       " ('near',\n",
       "  'Two men, one in a gray shirt, one in a black shirt, standing near a stove.'),\n",
       " ('men gray',\n",
       "  'Two men, one in a gray shirt, one in a black shirt, standing near a stove.'),\n",
       " ('joking', 'Two guy cooking and joking around with the camera.'),\n",
       " ('guy cooking', 'Two guy cooking and joking around with the camera.'),\n",
       " ('men', 'Two men in a kitchen cooking food on a stove.'),\n",
       " ('cooking food', 'Two men in a kitchen cooking food on a stove.'),\n",
       " ('men', 'Two men are at the stove preparing food.'),\n",
       " ('preparing food', 'Two men are at the stove preparing food.'),\n",
       " ('men', 'Two men are cooking a meal.'),\n",
       " ('cooking meal', 'Two men are cooking a meal.'),\n",
       " ('people photo',\n",
       "  'Two people in the photo are playing the guitar and the other is poking at him.'),\n",
       " ('guitar poking',\n",
       "  'Two people in the photo are playing the guitar and the other is poking at him.'),\n",
       " ('man observes',\n",
       "  'A man in green holds a guitar while the other man observes his shirt.'),\n",
       " ('guitar',\n",
       "  'A man in green holds a guitar while the other man observes his shirt.'),\n",
       " ('players', 'A man is fixing the guitar players costume.'),\n",
       " ('fixing guitar', 'A man is fixing the guitar players costume.'),\n",
       " ('man', \"A guy stitching up another man's coat.\"),\n",
       " ('stitching', \"A guy stitching up another man's coat.\"),\n",
       " ('boys', 'The two boys playing guitar'),\n",
       " ('playing guitar', 'The two boys playing guitar'),\n",
       " ('man sits',\n",
       "  'A man sits in a chair while holding a large stuffed animal of a lion.'),\n",
       " ('animal lion',\n",
       "  'A man sits in a chair while holding a large stuffed animal of a lion.'),\n",
       " ('man', 'A man is sitting on a chair holding a large stuffed animal.'),\n",
       " ('stuffed animal',\n",
       "  'A man is sitting on a chair holding a large stuffed animal.'),\n",
       " ('man completes', 'A man completes the finishing touches on a stuffed lion.'),\n",
       " ('stuffed lion', 'A man completes the finishing touches on a stuffed lion.'),\n",
       " ('lion', 'A man holds a large stuffed lion toy.'),\n",
       " ('man holds', 'A man holds a large stuffed lion toy.'),\n",
       " ('lion', 'A man is smiling at a stuffed lion'),\n",
       " ('man smiling', 'A man is smiling at a stuffed lion'),\n",
       " ('standing',\n",
       "  'A girl is on rollerskates talking on her cellphone standing in a parking lot.'),\n",
       " ('girl rollerskates',\n",
       "  'A girl is on rollerskates talking on her cellphone standing in a parking lot.'),\n",
       " ('gliding slowly',\n",
       "  'A trendy girl talking on her cellphone while gliding slowly down the street.'),\n",
       " ('girl talking',\n",
       "  'A trendy girl talking on her cellphone while gliding slowly down the street.'),\n",
       " ('cellular',\n",
       "  'A young adult wearing rollerblades, holding a cellular phone to her ear.'),\n",
       " ('wearing rollerblades',\n",
       "  'A young adult wearing rollerblades, holding a cellular phone to her ear.'),\n",
       " ('skating', 'There is a young girl on her cellphone while skating.'),\n",
       " ('girl cellphone', 'There is a young girl on her cellphone while skating.'),\n",
       " ('rollerskates', 'Woman talking on cellphone and wearing rollerskates.'),\n",
       " ('woman talking', 'Woman talking on cellphone and wearing rollerskates.'),\n",
       " ('dark haired',\n",
       "  'An asian man wearing a black suit stands near a dark-haired woman and a brown-haired woman.'),\n",
       " ('stands near',\n",
       "  'An asian man wearing a black suit stands near a dark-haired woman and a brown-haired woman.'),\n",
       " ('near large',\n",
       "  'Three people are standing outside near large pipes and a metal railing.'),\n",
       " ('metal railing',\n",
       "  'Three people are standing outside near large pipes and a metal railing.'),\n",
       " ('young people',\n",
       "  'A young woman walks past two young people dressed in hip black outfits.'),\n",
       " ('woman walks',\n",
       "  'A young woman walks past two young people dressed in hip black outfits.'),\n",
       " ('woman large', 'A woman with a large purse is walking by a gate.'),\n",
       " ('walking gate', 'A woman with a large purse is walking by a gate.'),\n",
       " ('outside building', 'Several people standing outside a building.'),\n",
       " ('people standing', 'Several people standing outside a building.'),\n",
       " ('germany',\n",
       "  'Two men in Germany jumping over a rail at the same time without shirts.'),\n",
       " ('jumping rail',\n",
       "  'Two men in Germany jumping over a rail at the same time without shirts.'),\n",
       " ('roadside', 'Two youths are jumping over a roadside railing, at night.'),\n",
       " ('youths jumping',\n",
       "  'Two youths are jumping over a roadside railing, at night.'),\n",
       " ('poles middle', 'Boys dancing on poles in the middle of the night.'),\n",
       " ('boys dancing', 'Boys dancing on poles in the middle of the night.'),\n",
       " ('men shirts', 'Two men with no shirts jumping over a rail.'),\n",
       " ('jumping rail', 'Two men with no shirts jumping over a rail.'),\n",
       " ('gate', 'Two guys jumping over a gate together'),\n",
       " ('guys jumping', 'Two guys jumping over a gate together'),\n",
       " ('sunlight coming',\n",
       "  'Five ballet dancers caught mid jump in a dancing studio with sunlight coming through a window.'),\n",
       " ('ballet dancers',\n",
       "  'Five ballet dancers caught mid jump in a dancing studio with sunlight coming through a window.'),\n",
       " ('wonderful',\n",
       "  'Ballet dancers in a studio practice jumping with wonderful form.'),\n",
       " ('practice jumping',\n",
       "  'Ballet dancers in a studio practice jumping with wonderful form.'),\n",
       " ('simultaneously',\n",
       "  'Five girls are leaping simultaneously in a dance practice room.'),\n",
       " ('girls leaping',\n",
       "  'Five girls are leaping simultaneously in a dance practice room.'),\n",
       " ('bending', 'Five girls dancing and bending feet in ballet class.'),\n",
       " ('girls dancing', 'Five girls dancing and bending feet in ballet class.'),\n",
       " ('sequence', 'A ballet class of five girls jumping in sequence.'),\n",
       " ('girls jumping', 'A ballet class of five girls jumping in sequence.'),\n",
       " ('woman wearing',\n",
       "  'Three young men and a young woman wearing sneakers are leaping in midair at the top of a flight of concrete stairs.'),\n",
       " ('men young',\n",
       "  'Three young men and a young woman wearing sneakers are leaping in midair at the top of a flight of concrete stairs.'),\n",
       " ('casually dressed',\n",
       "  'Four casually dressed guys jumping down a stairway outdoors with a stone wall behind them.'),\n",
       " ('stone wall',\n",
       "  'Four casually dressed guys jumping down a stairway outdoors with a stone wall behind them.'),\n",
       " ('wearing hats',\n",
       "  'Four guys three wearing hats one not are jumping at the top of a staircase.'),\n",
       " ('jumping staircase',\n",
       "  'Four guys three wearing hats one not are jumping at the top of a staircase.'),\n",
       " ('faces',\n",
       "  'Four men with excited faces are jumping down from the top of stairs.'),\n",
       " ('jumping stairs',\n",
       "  'Four men with excited faces are jumping down from the top of stairs.'),\n",
       " ('people', 'Four people are jumping from the top of a flight of stairs.'),\n",
       " ('flight stairs',\n",
       "  'Four people are jumping from the top of a flight of stairs.'),\n",
       " ('white dog',\n",
       "  'A black dog and a white dog with brown spots are staring at each other in the street.'),\n",
       " ('spots staring',\n",
       "  'A black dog and a white dog with brown spots are staring at each other in the street.'),\n",
       " ('tri colored',\n",
       "  'A black dog and a tri-colored dog playing with each other on the road.'),\n",
       " ('dog playing',\n",
       "  'A black dog and a tri-colored dog playing with each other on the road.'),\n",
       " ('looking road',\n",
       "  'Two dogs of different breeds looking at each other on the road.'),\n",
       " ('dogs different',\n",
       "  'Two dogs of different breeds looking at each other on the road.'),\n",
       " ('dogs', 'Two dogs on pavement moving toward each other.'),\n",
       " ('pavement moving', 'Two dogs on pavement moving toward each other.'),\n",
       " ('dog spotted', 'A black dog and a spotted dog are fighting'),\n",
       " ('fighting', 'A black dog and a spotted dog are fighting'),\n",
       " ('clothes ear',\n",
       "  'A man with reflective safety clothes and ear protection drives a John Deere tractor on a road.'),\n",
       " ('drives john',\n",
       "  'A man with reflective safety clothes and ear protection drives a John Deere tractor on a road.'),\n",
       " ('cruises street',\n",
       "  'John Deere tractors cruises down a street, while the driver wears easy to see clothing.'),\n",
       " ('deere tractors',\n",
       "  'John Deere tractors cruises down a street, while the driver wears easy to see clothing.'),\n",
       " ('man',\n",
       "  'A man in a neon green and orange uniform is driving on a green tractor.'),\n",
       " ('neon green',\n",
       "  'A man in a neon green and orange uniform is driving on a green tractor.'),\n",
       " ('wearing headphones',\n",
       "  'A man in a tractor wearing headphones driving down a paved street.'),\n",
       " ('man tractor',\n",
       "  'A man in a tractor wearing headphones driving down a paved street.'),\n",
       " ('main', 'A man driving a John Deere tractor on a main road in the country.'),\n",
       " ('man driving',\n",
       "  'A man driving a John Deere tractor on a main road in the country.'),\n",
       " ('bus',\n",
       "  'Some women are standing in front of a bus with buildings behind it.'),\n",
       " ('women standing',\n",
       "  'Some women are standing in front of a bus with buildings behind it.'),\n",
       " ('city street', 'Several women stand on a city street with tall buildings.'),\n",
       " ('women stand', 'Several women stand on a city street with tall buildings.'),\n",
       " ('bus', 'A group of women are standing in front of a bus.'),\n",
       " ('women standing', 'A group of women are standing in front of a bus.'),\n",
       " ('outside city', 'Several women wait outside in a city.'),\n",
       " ('women wait', 'Several women wait outside in a city.'),\n",
       " ('outside', 'Women are standing outside'),\n",
       " ('women standing', 'Women are standing outside'),\n",
       " ('putting white',\n",
       "  'A young woman with dark hair and wearing glasses is putting white powder on a cake using a sifter.'),\n",
       " ('using sifter',\n",
       "  'A young woman with dark hair and wearing glasses is putting white powder on a cake using a sifter.'),\n",
       " ('black glasses',\n",
       "  'A lady in a black top with glasses is sprinkling powdered sugar on a bundt cake.'),\n",
       " ('bundt',\n",
       "  'A lady in a black top with glasses is sprinkling powdered sugar on a bundt cake.'),\n",
       " ('wearing glasses',\n",
       "  'A woman wearing glasses sprinkles powdered sugar onto her bundt cake.'),\n",
       " ('bundt',\n",
       "  'A woman wearing glasses sprinkles powdered sugar onto her bundt cake.'),\n",
       " ('jacket sifting',\n",
       "  'Girl in black jacket sifting powdered sugar over a chocolate cake.'),\n",
       " ('sugar',\n",
       "  'Girl in black jacket sifting powdered sugar over a chocolate cake.'),\n",
       " ('cake', 'A standing woman holds a pan over a cake.'),\n",
       " ('woman holds', 'A standing woman holds a pan over a cake.'),\n",
       " ('fingerpaints',\n",
       "  'A small girl in the grass plays with fingerpaints in front of a white canvas with a rainbow on it.'),\n",
       " ('grass plays',\n",
       "  'A small girl in the grass plays with fingerpaints in front of a white canvas with a rainbow on it.'),\n",
       " ('sits',\n",
       "  'A little girl covered in paint sits in front of a painted rainbow with her hands in a bowl.'),\n",
       " ('rainbow hands',\n",
       "  'A little girl covered in paint sits in front of a painted rainbow with her hands in a bowl.'),\n",
       " ('sitting',\n",
       "  'There is a girl with pigtails sitting in front of a rainbow painting.'),\n",
       " ('rainbow painting',\n",
       "  'There is a girl with pigtails sitting in front of a rainbow painting.'),\n",
       " ('rainbow', 'A little girl is sitting in front of a large painted rainbow.'),\n",
       " ('girl sitting',\n",
       "  'A little girl is sitting in front of a large painted rainbow.'),\n",
       " ('pigtails', 'Young girl with pigtails painting outside in the grass.'),\n",
       " ('painting outside',\n",
       "  'Young girl with pigtails painting outside in the grass.'),\n",
       " ('outside white',\n",
       "  'A man sleeping on a bench outside with a white and black dog sitting next to him.'),\n",
       " ('man sleeping',\n",
       "  'A man sleeping on a bench outside with a white and black dog sitting next to him.'),\n",
       " ('white dog', 'A man lays on the bench to which a white dog is also tied.'),\n",
       " ('man lays', 'A man lays on the bench to which a white dog is also tied.'),\n",
       " ('man', 'Man laying on bench holding leash of dog sitting on ground'),\n",
       " ('dog sitting', 'Man laying on bench holding leash of dog sitting on ground'),\n",
       " ('shirtless man', 'A shirtless man lies on a park bench with his dog.'),\n",
       " ('lies park', 'A shirtless man lies on a park bench with his dog.'),\n",
       " ('man', 'A man lays on a bench while his dog sits by him.'),\n",
       " ('dog sits', 'A man lays on a bench while his dog sits by him.'),\n",
       " ('type musical',\n",
       "  'A group of adults, inside a home, sitting on chairs arranged in a circle, playing a type of musical instruments.'),\n",
       " ('home sitting',\n",
       "  'A group of adults, inside a home, sitting on chairs arranged in a circle, playing a type of musical instruments.'),\n",
       " ('man',\n",
       "  'Five musicians, a man and four women, practicing sheet music (using flutes ) in a living room.'),\n",
       " ('using flutes',\n",
       "  'Five musicians, a man and four women, practicing sheet music (using flutes ) in a living room.'),\n",
       " ('circle', 'People gathered in a circle, some holding musical instruments.'),\n",
       " ('holding musical',\n",
       "  'People gathered in a circle, some holding musical instruments.'),\n",
       " ('favorite', 'People gathered in a room to talk about their favorite tunes.'),\n",
       " ('people gathered',\n",
       "  'People gathered in a room to talk about their favorite tunes.'),\n",
       " ('sitting', 'Five people are sitting in a circle with instruments.'),\n",
       " ('circle instruments',\n",
       "  'Five people are sitting in a circle with instruments.'),\n",
       " ('elderly woman',\n",
       "  'Two women, both wearing glasses, are playing clarinets and an elderly woman is playing a stringed instrument.'),\n",
       " ('clarinets',\n",
       "  'Two women, both wearing glasses, are playing clarinets and an elderly woman is playing a stringed instrument.'),\n",
       " ('curtained room',\n",
       "  'At least four instrumentalists play clarinets and other instruments in a curtained room.'),\n",
       " ('instrumentalists play',\n",
       "  'At least four instrumentalists play clarinets and other instruments in a curtained room.'),\n",
       " ('playing musical',\n",
       "  'Four women in a living room, three of which are clearly playing a musical instrument.'),\n",
       " ('women living',\n",
       "  'Four women in a living room, three of which are clearly playing a musical instrument.'),\n",
       " ('elderly women',\n",
       "  'A bunch of elderly women play their clarinets together as they read off sheet music.'),\n",
       " ('play clarinets',\n",
       "  'A bunch of elderly women play their clarinets together as they read off sheet music.'),\n",
       " ('group women',\n",
       "  'A group of four women, are performing music on their instruments.'),\n",
       " ('performing music',\n",
       "  'A group of four women, are performing music on their instruments.')]"
      ]
     },
     "execution_count": 48,
     "metadata": {},
     "output_type": "execute_result"
    }
   ],
   "source": [
    "keyword_caption_pairs"
   ]
  },
  {
   "cell_type": "code",
   "execution_count": 34,
   "id": "3680a0f9-b5f5-4a7e-9228-e135b4684745",
   "metadata": {},
   "outputs": [
    {
     "data": {
      "application/vnd.jupyter.widget-view+json": {
       "model_id": "2618c40f06b546c1bcfb16cce958d4d6",
       "version_major": 2,
       "version_minor": 0
      },
      "text/plain": [
       "Batches:   0%|          | 0/7 [00:00<?, ?it/s]"
      ]
     },
     "metadata": {},
     "output_type": "display_data"
    }
   ],
   "source": [
    "keywords = [pair[0] for pair in keyword_caption_pairs]\n",
    "\n",
    "keyword_embeddings = sentence_model.encode(keywords, show_progress_bar=True)\n"
   ]
  },
  {
   "cell_type": "code",
   "execution_count": null,
   "id": "b1511562-70cd-4bb8-b32d-2b6a1f0a52f1",
   "metadata": {},
   "outputs": [],
   "source": []
  },
  {
   "cell_type": "code",
   "execution_count": 37,
   "id": "91fe31d0-a13e-498b-b5d7-a5e9490e86a4",
   "metadata": {},
   "outputs": [],
   "source": [
    "import hdbscan\n",
    "\n",
    "clusterer = hdbscan.HDBSCAN(min_cluster_size=5, metric='euclidean')\n",
    "cluster_labels = clusterer.fit_predict(keyword_embeddings)"
   ]
  },
  {
   "cell_type": "code",
   "execution_count": 39,
   "id": "269c7898-b472-4088-9559-948b29fa2bd3",
   "metadata": {},
   "outputs": [],
   "source": [
    "from collections import defaultdict\n",
    "\n",
    "clusters = defaultdict(list)\n",
    "\n",
    "for idx, label in enumerate(cluster_labels):\n",
    "    if label != -1:  # Ignore noise\n",
    "        keyword, caption = keyword_caption_pairs[idx]\n",
    "        clusters[label].append((keyword, caption))\n"
   ]
  },
  {
   "cell_type": "code",
   "execution_count": 40,
   "id": "a90c2081-a962-4828-9271-f7227258ea5a",
   "metadata": {},
   "outputs": [],
   "source": [
    "from collections import Counter\n",
    "\n",
    "search_hints = []\n",
    "\n",
    "for cluster_id, items in clusters.items():\n",
    "    keywords_in_cluster = [kw for kw, _ in items]\n",
    "    most_common_keyword = Counter(keywords_in_cluster).most_common(1)[0][0]\n",
    "    search_hints.append({\n",
    "        \"hint\": most_common_keyword,\n",
    "        \"examples\": [caption for _, caption in items[:3]]  # Show few example captions\n",
    "    })\n"
   ]
  },
  {
   "cell_type": "code",
   "execution_count": 41,
   "id": "aa40f861-77cc-4398-bfbc-2b4582644492",
   "metadata": {},
   "outputs": [
    {
     "data": {
      "text/plain": [
       "[{'hint': 'tractor',\n",
       "  'examples': ['Two young guys with shaggy hair look at their hands while hanging out in the yard.',\n",
       "   'Two men in green shirts are standing in a yard.',\n",
       "   'A man in a blue shirt standing in a garden.']},\n",
       " {'hint': 'women',\n",
       "  'examples': ['Two young, White males are outside near many bushes.',\n",
       "   'Workers look down from up above on a piece of equipment.',\n",
       "   'Four men on top of a tall structure.']},\n",
       " {'hint': 'green',\n",
       "  'examples': ['Two men in green shirts are standing in a yard.',\n",
       "   'A man in green holds a guitar while the other man observes his shirt.',\n",
       "   'A man in a neon green and orange uniform is driving on a green tractor.']},\n",
       " {'hint': 'guitar',\n",
       "  'examples': ['Workers look down from up above on a piece of equipment.',\n",
       "   'Two people in the photo are playing the guitar and the other is poking at him.',\n",
       "   'A man in green holds a guitar while the other man observes his shirt.']},\n",
       " {'hint': 'stairs',\n",
       "  'examples': ['A child in a pink dress is climbing up a set of stairs in an entry way.',\n",
       "   'A little girl climbing the stairs to her playhouse.',\n",
       "   'Four casually dressed guys jumping down a stairway outdoors with a stone wall behind them.']},\n",
       " {'hint': 'ladder',\n",
       "  'examples': ['A child in a pink dress is climbing up a set of stairs in an entry way.',\n",
       "   'A little girl climbing into a wooden playhouse.',\n",
       "   'A man in a blue shirt is standing on a ladder cleaning a window.']},\n",
       " {'hint': 'bench',\n",
       "  'examples': ['A girl going into a wooden building.',\n",
       "   'A man sits in a chair while holding a large stuffed animal of a lion.',\n",
       "   'A man is sitting on a chair holding a large stuffed animal.']},\n",
       " {'hint': 'stove',\n",
       "  'examples': ['Two men, one in a gray shirt, one in a black shirt, standing near a stove.',\n",
       "   'Two guy cooking and joking around with the camera.',\n",
       "   'Two men in a kitchen cooking food on a stove.']},\n",
       " {'hint': 'dog',\n",
       "  'examples': ['A man holds a large stuffed lion toy.',\n",
       "   'A black dog and a white dog with brown spots are staring at each other in the street.',\n",
       "   'A black dog and a tri-colored dog playing with each other on the road.']},\n",
       " {'hint': 'cellphone',\n",
       "  'examples': ['A girl is on rollerskates talking on her cellphone standing in a parking lot.',\n",
       "   'A trendy girl talking on her cellphone while gliding slowly down the street.',\n",
       "   'A young adult wearing rollerblades, holding a cellular phone to her ear.']},\n",
       " {'hint': 'jumping',\n",
       "  'examples': ['Two men in Germany jumping over a rail at the same time without shirts.',\n",
       "   'Two men with no shirts jumping over a rail.',\n",
       "   'Two guys jumping over a gate together']},\n",
       " {'hint': 'ballet',\n",
       "  'examples': ['Boys dancing on poles in the middle of the night.',\n",
       "   'Five ballet dancers caught mid jump in a dancing studio with sunlight coming through a window.',\n",
       "   'Five ballet dancers caught mid jump in a dancing studio with sunlight coming through a window.']}]"
      ]
     },
     "execution_count": 41,
     "metadata": {},
     "output_type": "execute_result"
    }
   ],
   "source": [
    "search_hints"
   ]
  }
 ],
 "metadata": {
  "kernelspec": {
   "display_name": "Python 3 (ipykernel)",
   "language": "python",
   "name": "python3"
  },
  "language_info": {
   "codemirror_mode": {
    "name": "ipython",
    "version": 3
   },
   "file_extension": ".py",
   "mimetype": "text/x-python",
   "name": "python",
   "nbconvert_exporter": "python",
   "pygments_lexer": "ipython3",
   "version": "3.10.12"
  }
 },
 "nbformat": 4,
 "nbformat_minor": 5
}
