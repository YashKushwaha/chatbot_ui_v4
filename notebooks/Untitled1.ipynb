{
 "cells": [
  {
   "cell_type": "code",
   "execution_count": 1,
   "id": "495f6670-bed7-4e0c-b4be-40cc65899f84",
   "metadata": {},
   "outputs": [],
   "source": [
    "from pathlib import Path\n",
    "import os"
   ]
  },
  {
   "cell_type": "code",
   "execution_count": 2,
   "id": "042f58dc-bcfe-4b8a-8de0-c029c4f24220",
   "metadata": {},
   "outputs": [],
   "source": [
    "os.chdir(Path(os.getcwd()).resolve().parents[0])"
   ]
  },
  {
   "cell_type": "code",
   "execution_count": 5,
   "id": "d7ea08b8-c0a6-43f3-a70c-8497006565d2",
   "metadata": {},
   "outputs": [],
   "source": [
    "from src.components import get_ollama_llm, get_mongo_db_client, get_chroma_db_client"
   ]
  },
  {
   "cell_type": "code",
   "execution_count": 7,
   "id": "93f6d29a-98ec-453e-97e7-f47c8b9cacf9",
   "metadata": {},
   "outputs": [],
   "source": [
    "mongo_db_client = get_mongo_db_client()\n",
    "vec_db_client = get_chroma_db_client()\n",
    "from src.embedding_client import RemoteEmbedding\n",
    "embed_model = RemoteEmbedding(f\"http://localhost:8020\")"
   ]
  },
  {
   "cell_type": "code",
   "execution_count": 9,
   "id": "41c719aa-b0e9-4ef9-b1d9-73d64662c332",
   "metadata": {},
   "outputs": [],
   "source": [
    "query = \"two men\""
   ]
  },
  {
   "cell_type": "code",
   "execution_count": 10,
   "id": "50b96d97-defa-4a7a-aad0-0440f30b048e",
   "metadata": {},
   "outputs": [],
   "source": [
    "embeddings = embed_model.get_query_embedding(query)"
   ]
  },
  {
   "cell_type": "code",
   "execution_count": 13,
   "id": "20f0f5bf-1e0c-4803-ac9d-129581ed4a39",
   "metadata": {},
   "outputs": [
    {
     "data": {
      "text/plain": [
       "768"
      ]
     },
     "execution_count": 13,
     "metadata": {},
     "output_type": "execute_result"
    }
   ],
   "source": [
    "len(embeddings[0])"
   ]
  },
  {
   "cell_type": "code",
   "execution_count": 18,
   "id": "e9951c90-7b5e-4da0-a875-230b8ecb6220",
   "metadata": {},
   "outputs": [],
   "source": [
    "chroma_collection = vec_db_client.get_collection('images')"
   ]
  },
  {
   "cell_type": "code",
   "execution_count": 20,
   "id": "7d1839c2-e3b1-42d8-8f56-4952284b36f0",
   "metadata": {},
   "outputs": [
    {
     "data": {
      "text/plain": [
       "{'ids': [['22664',\n",
       "   '24718',\n",
       "   '6929',\n",
       "   '11299',\n",
       "   '12763',\n",
       "   '22850',\n",
       "   '4628',\n",
       "   '24743',\n",
       "   '3541',\n",
       "   '12018']],\n",
       " 'distances': [[1.4335427,\n",
       "   1.4344275,\n",
       "   1.4378197,\n",
       "   1.4403863,\n",
       "   1.4437007,\n",
       "   1.446805,\n",
       "   1.4492996,\n",
       "   1.450551,\n",
       "   1.4509563,\n",
       "   1.4510105]],\n",
       " 'embeddings': None,\n",
       " 'metadatas': [[None, None, None, None, None, None, None, None, None, None]],\n",
       " 'documents': [['4778593226.jpg',\n",
       "   '4944016457.jpg',\n",
       "   '258434606.jpg',\n",
       "   '3157847991.jpg',\n",
       "   '3330333217.jpg',\n",
       "   '4797124142.jpg',\n",
       "   '2299558545.jpg',\n",
       "   '4945543678.jpg',\n",
       "   '2131732576.jpg',\n",
       "   '3239891140.jpg']],\n",
       " 'uris': None,\n",
       " 'data': None,\n",
       " 'included': ['metadatas', 'documents', 'distances']}"
      ]
     },
     "execution_count": 20,
     "metadata": {},
     "output_type": "execute_result"
    }
   ],
   "source": [
    "chroma_collection.query(embeddings[0])"
   ]
  },
  {
   "cell_type": "code",
   "execution_count": 22,
   "id": "36ea3a16-6ae4-4cea-a509-5512b87fdaf8",
   "metadata": {},
   "outputs": [],
   "source": [
    "from llama_index.vector_stores.chroma import ChromaVectorStore\n",
    "\n",
    "from llama_index.core.retrievers import VectorIndexRetriever\n",
    "from llama_index.core import VectorStoreIndex\n",
    "from llama_index.core.retrievers import BaseRetriever\n",
    "from llama_index.core.vector_stores.types import VectorStoreQuery\n",
    "from llama_index.core.schema import QueryBundle"
   ]
  },
  {
   "cell_type": "code",
   "execution_count": 23,
   "id": "d5ec6cb6-d333-4e1e-a2c7-562b19ea746e",
   "metadata": {},
   "outputs": [],
   "source": [
    "vec_store = ChromaVectorStore(chroma_collection = chroma_collection)"
   ]
  },
  {
   "cell_type": "code",
   "execution_count": null,
   "id": "fa2118db-0ff4-472a-9c1e-4754ef61b66c",
   "metadata": {},
   "outputs": [],
   "source": [
    "from llama_index.core.vector_stores import VectorStoreQuery"
   ]
  },
  {
   "cell_type": "code",
   "execution_count": 31,
   "id": "e7ee802f-3ddb-4894-ac33-67a6d5e0a681",
   "metadata": {},
   "outputs": [],
   "source": [
    "vec_store_query = VectorStoreQuery(query_embedding = embeddings[0], similarity_top_k = 5)\n",
    "results = vec_store.query(query = vec_store_query)"
   ]
  },
  {
   "cell_type": "code",
   "execution_count": 35,
   "id": "b22b9e55-eef8-4ee0-87da-3c7b355c72a1",
   "metadata": {},
   "outputs": [
    {
     "data": {
      "text/plain": [
       "[TextNode(id_='22664', embedding=None, metadata={}, excluded_embed_metadata_keys=[], excluded_llm_metadata_keys=[], relationships={}, metadata_template='{key}: {value}', metadata_separator='\\n', text='4778593226.jpg', mimetype='text/plain', start_char_idx=None, end_char_idx=None, metadata_seperator='\\n', text_template='{metadata_str}\\n\\n{content}'),\n",
       " TextNode(id_='24718', embedding=None, metadata={}, excluded_embed_metadata_keys=[], excluded_llm_metadata_keys=[], relationships={}, metadata_template='{key}: {value}', metadata_separator='\\n', text='4944016457.jpg', mimetype='text/plain', start_char_idx=None, end_char_idx=None, metadata_seperator='\\n', text_template='{metadata_str}\\n\\n{content}'),\n",
       " TextNode(id_='6929', embedding=None, metadata={}, excluded_embed_metadata_keys=[], excluded_llm_metadata_keys=[], relationships={}, metadata_template='{key}: {value}', metadata_separator='\\n', text='258434606.jpg', mimetype='text/plain', start_char_idx=None, end_char_idx=None, metadata_seperator='\\n', text_template='{metadata_str}\\n\\n{content}'),\n",
       " TextNode(id_='11299', embedding=None, metadata={}, excluded_embed_metadata_keys=[], excluded_llm_metadata_keys=[], relationships={}, metadata_template='{key}: {value}', metadata_separator='\\n', text='3157847991.jpg', mimetype='text/plain', start_char_idx=None, end_char_idx=None, metadata_seperator='\\n', text_template='{metadata_str}\\n\\n{content}'),\n",
       " TextNode(id_='12763', embedding=None, metadata={}, excluded_embed_metadata_keys=[], excluded_llm_metadata_keys=[], relationships={}, metadata_template='{key}: {value}', metadata_separator='\\n', text='3330333217.jpg', mimetype='text/plain', start_char_idx=None, end_char_idx=None, metadata_seperator='\\n', text_template='{metadata_str}\\n\\n{content}')]"
      ]
     },
     "execution_count": 35,
     "metadata": {},
     "output_type": "execute_result"
    }
   ],
   "source": [
    "results.nodes"
   ]
  },
  {
   "cell_type": "code",
   "execution_count": 36,
   "id": "66848e58-9652-46d9-a19f-fe4755b81a3f",
   "metadata": {},
   "outputs": [
    {
     "data": {
      "text/plain": [
       "['__abstractmethods__',\n",
       " '__annotations__',\n",
       " '__class__',\n",
       " '__class_getitem__',\n",
       " '__class_vars__',\n",
       " '__copy__',\n",
       " '__deepcopy__',\n",
       " '__delattr__',\n",
       " '__dict__',\n",
       " '__dir__',\n",
       " '__doc__',\n",
       " '__eq__',\n",
       " '__fields__',\n",
       " '__fields_set__',\n",
       " '__format__',\n",
       " '__ge__',\n",
       " '__get_pydantic_core_schema__',\n",
       " '__get_pydantic_json_schema__',\n",
       " '__getattr__',\n",
       " '__getattribute__',\n",
       " '__getstate__',\n",
       " '__gt__',\n",
       " '__hash__',\n",
       " '__init__',\n",
       " '__init_subclass__',\n",
       " '__iter__',\n",
       " '__le__',\n",
       " '__lt__',\n",
       " '__module__',\n",
       " '__ne__',\n",
       " '__new__',\n",
       " '__pretty__',\n",
       " '__private_attributes__',\n",
       " '__pydantic_complete__',\n",
       " '__pydantic_computed_fields__',\n",
       " '__pydantic_core_schema__',\n",
       " '__pydantic_custom_init__',\n",
       " '__pydantic_decorators__',\n",
       " '__pydantic_extra__',\n",
       " '__pydantic_fields__',\n",
       " '__pydantic_fields_set__',\n",
       " '__pydantic_generic_metadata__',\n",
       " '__pydantic_init_subclass__',\n",
       " '__pydantic_parent_namespace__',\n",
       " '__pydantic_post_init__',\n",
       " '__pydantic_private__',\n",
       " '__pydantic_root_model__',\n",
       " '__pydantic_serializer__',\n",
       " '__pydantic_setattr_handlers__',\n",
       " '__pydantic_validator__',\n",
       " '__reduce__',\n",
       " '__reduce_ex__',\n",
       " '__replace__',\n",
       " '__repr__',\n",
       " '__repr_args__',\n",
       " '__repr_name__',\n",
       " '__repr_recursion__',\n",
       " '__repr_str__',\n",
       " '__rich_repr__',\n",
       " '__setattr__',\n",
       " '__setstate__',\n",
       " '__signature__',\n",
       " '__sizeof__',\n",
       " '__slots__',\n",
       " '__str__',\n",
       " '__subclasshook__',\n",
       " '__weakref__',\n",
       " '_abc_impl',\n",
       " '_calculate_keys',\n",
       " '_copy_and_set_values',\n",
       " '_get',\n",
       " '_get_value',\n",
       " '_iter',\n",
       " '_query',\n",
       " '_setattr_handler',\n",
       " 'aclear',\n",
       " 'add',\n",
       " 'adelete',\n",
       " 'adelete_nodes',\n",
       " 'aget_nodes',\n",
       " 'aquery',\n",
       " 'async_add',\n",
       " 'class_name',\n",
       " 'clear',\n",
       " 'client',\n",
       " 'collection_kwargs',\n",
       " 'collection_name',\n",
       " 'construct',\n",
       " 'copy',\n",
       " 'custom_model_dump',\n",
       " 'delete',\n",
       " 'delete_nodes',\n",
       " 'dict',\n",
       " 'flat_metadata',\n",
       " 'from_collection',\n",
       " 'from_dict',\n",
       " 'from_json',\n",
       " 'from_orm',\n",
       " 'from_params',\n",
       " 'get_nodes',\n",
       " 'headers',\n",
       " 'host',\n",
       " 'is_embedding_query',\n",
       " 'json',\n",
       " 'model_computed_fields',\n",
       " 'model_config',\n",
       " 'model_construct',\n",
       " 'model_copy',\n",
       " 'model_dump',\n",
       " 'model_dump_json',\n",
       " 'model_extra',\n",
       " 'model_fields',\n",
       " 'model_fields_set',\n",
       " 'model_json_schema',\n",
       " 'model_parametrized_name',\n",
       " 'model_post_init',\n",
       " 'model_rebuild',\n",
       " 'model_validate',\n",
       " 'model_validate_json',\n",
       " 'model_validate_strings',\n",
       " 'parse_file',\n",
       " 'parse_obj',\n",
       " 'parse_raw',\n",
       " 'persist',\n",
       " 'persist_dir',\n",
       " 'port',\n",
       " 'query',\n",
       " 'schema',\n",
       " 'schema_json',\n",
       " 'ssl',\n",
       " 'stores_text',\n",
       " 'to_dict',\n",
       " 'to_json',\n",
       " 'update_forward_refs',\n",
       " 'validate']"
      ]
     },
     "execution_count": 36,
     "metadata": {},
     "output_type": "execute_result"
    }
   ],
   "source": [
    "dir(vec_store)"
   ]
  },
  {
   "cell_type": "code",
   "execution_count": null,
   "id": "faf03831-039b-42dc-ae1b-9ecf8a0b429f",
   "metadata": {},
   "outputs": [],
   "source": []
  },
  {
   "cell_type": "code",
   "execution_count": null,
   "id": "91f37852-f38b-4954-b670-522bd2edf1e5",
   "metadata": {},
   "outputs": [],
   "source": [
    "index = VectorStoreIndex.from_vector_store(vec_store, embed_model=embed_model)"
   ]
  },
  {
   "cell_type": "code",
   "execution_count": null,
   "id": "9733ae3e-c8bc-4434-8202-24b3b5c684fd",
   "metadata": {},
   "outputs": [],
   "source": []
  },
  {
   "cell_type": "code",
   "execution_count": null,
   "id": "1feb145e-78d2-4245-beaf-53adabd65994",
   "metadata": {},
   "outputs": [],
   "source": []
  }
 ],
 "metadata": {
  "kernelspec": {
   "display_name": "Python 3 (ipykernel)",
   "language": "python",
   "name": "python3"
  },
  "language_info": {
   "codemirror_mode": {
    "name": "ipython",
    "version": 3
   },
   "file_extension": ".py",
   "mimetype": "text/x-python",
   "name": "python",
   "nbconvert_exporter": "python",
   "pygments_lexer": "ipython3",
   "version": "3.10.12"
  }
 },
 "nbformat": 4,
 "nbformat_minor": 5
}
