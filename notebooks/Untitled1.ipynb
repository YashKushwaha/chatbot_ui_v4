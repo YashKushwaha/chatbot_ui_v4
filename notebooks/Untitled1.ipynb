{
 "cells": [
  {
   "cell_type": "code",
   "execution_count": 1,
   "id": "495f6670-bed7-4e0c-b4be-40cc65899f84",
   "metadata": {},
   "outputs": [],
   "source": [
    "from pathlib import Path\n",
    "import os"
   ]
  },
  {
   "cell_type": "code",
   "execution_count": 2,
   "id": "042f58dc-bcfe-4b8a-8de0-c029c4f24220",
   "metadata": {},
   "outputs": [],
   "source": [
    "os.chdir(Path(os.getcwd()).resolve().parents[0])"
   ]
  },
  {
   "cell_type": "code",
   "execution_count": 5,
   "id": "d7ea08b8-c0a6-43f3-a70c-8497006565d2",
   "metadata": {},
   "outputs": [],
   "source": [
    "from src.components import get_ollama_llm, get_mongo_db_client, get_chroma_db_client"
   ]
  },
  {
   "cell_type": "code",
   "execution_count": 7,
   "id": "93f6d29a-98ec-453e-97e7-f47c8b9cacf9",
   "metadata": {},
   "outputs": [],
   "source": [
    "mongo_db_client = get_mongo_db_client()\n",
    "vec_db_client = get_chroma_db_client()\n",
    "from src.embedding_client import RemoteEmbedding\n",
    "embed_model = RemoteEmbedding(f\"http://localhost:8020\")"
   ]
  },
  {
   "cell_type": "code",
   "execution_count": 9,
   "id": "41c719aa-b0e9-4ef9-b1d9-73d64662c332",
   "metadata": {},
   "outputs": [],
   "source": [
    "query = \"two men\""
   ]
  },
  {
   "cell_type": "code",
   "execution_count": 10,
   "id": "50b96d97-defa-4a7a-aad0-0440f30b048e",
   "metadata": {},
   "outputs": [],
   "source": [
    "embeddings = embed_model.get_query_embedding(query)"
   ]
  },
  {
   "cell_type": "code",
   "execution_count": 13,
   "id": "20f0f5bf-1e0c-4803-ac9d-129581ed4a39",
   "metadata": {},
   "outputs": [
    {
     "data": {
      "text/plain": [
       "768"
      ]
     },
     "execution_count": 13,
     "metadata": {},
     "output_type": "execute_result"
    }
   ],
   "source": [
    "len(embeddings[0])"
   ]
  },
  {
   "cell_type": "code",
   "execution_count": 18,
   "id": "e9951c90-7b5e-4da0-a875-230b8ecb6220",
   "metadata": {},
   "outputs": [],
   "source": [
    "chroma_collection = vec_db_client.get_collection('images')"
   ]
  },
  {
   "cell_type": "code",
   "execution_count": 20,
   "id": "7d1839c2-e3b1-42d8-8f56-4952284b36f0",
   "metadata": {},
   "outputs": [
    {
     "data": {
      "text/plain": [
       "{'ids': [['22664',\n",
       "   '24718',\n",
       "   '6929',\n",
       "   '11299',\n",
       "   '12763',\n",
       "   '22850',\n",
       "   '4628',\n",
       "   '24743',\n",
       "   '3541',\n",
       "   '12018']],\n",
       " 'distances': [[1.4335427,\n",
       "   1.4344275,\n",
       "   1.4378197,\n",
       "   1.4403863,\n",
       "   1.4437007,\n",
       "   1.446805,\n",
       "   1.4492996,\n",
       "   1.450551,\n",
       "   1.4509563,\n",
       "   1.4510105]],\n",
       " 'embeddings': None,\n",
       " 'metadatas': [[None, None, None, None, None, None, None, None, None, None]],\n",
       " 'documents': [['4778593226.jpg',\n",
       "   '4944016457.jpg',\n",
       "   '258434606.jpg',\n",
       "   '3157847991.jpg',\n",
       "   '3330333217.jpg',\n",
       "   '4797124142.jpg',\n",
       "   '2299558545.jpg',\n",
       "   '4945543678.jpg',\n",
       "   '2131732576.jpg',\n",
       "   '3239891140.jpg']],\n",
       " 'uris': None,\n",
       " 'data': None,\n",
       " 'included': ['metadatas', 'documents', 'distances']}"
      ]
     },
     "execution_count": 20,
     "metadata": {},
     "output_type": "execute_result"
    }
   ],
   "source": [
    "chroma_collection.query(embeddings[0])"
   ]
  },
  {
   "cell_type": "code",
   "execution_count": 22,
   "id": "36ea3a16-6ae4-4cea-a509-5512b87fdaf8",
   "metadata": {},
   "outputs": [],
   "source": [
    "from llama_index.vector_stores.chroma import ChromaVectorStore\n",
    "\n",
    "from llama_index.core.retrievers import VectorIndexRetriever\n",
    "from llama_index.core import VectorStoreIndex\n",
    "from llama_index.core.retrievers import BaseRetriever\n",
    "from llama_index.core.vector_stores.types import VectorStoreQuery\n",
    "from llama_index.core.schema import QueryBundle"
   ]
  },
  {
   "cell_type": "code",
   "execution_count": 23,
   "id": "d5ec6cb6-d333-4e1e-a2c7-562b19ea746e",
   "metadata": {},
   "outputs": [],
   "source": [
    "vec_store = ChromaVectorStore(chroma_collection = chroma_collection)"
   ]
  },
  {
   "cell_type": "code",
   "execution_count": null,
   "id": "fa2118db-0ff4-472a-9c1e-4754ef61b66c",
   "metadata": {},
   "outputs": [],
   "source": [
    "from llama_index.core.vector_stores import VectorStoreQuery"
   ]
  },
  {
   "cell_type": "code",
   "execution_count": 31,
   "id": "e7ee802f-3ddb-4894-ac33-67a6d5e0a681",
   "metadata": {},
   "outputs": [],
   "source": [
    "vec_store_query = VectorStoreQuery(query_embedding = embeddings[0], similarity_top_k = 5)\n",
    "results = vec_store.query(query = vec_store_query)"
   ]
  },
  {
   "cell_type": "code",
   "execution_count": 39,
   "id": "b22b9e55-eef8-4ee0-87da-3c7b355c72a1",
   "metadata": {},
   "outputs": [
    {
     "data": {
      "text/plain": [
       "['4778593226.jpg',\n",
       " '4944016457.jpg',\n",
       " '258434606.jpg',\n",
       " '3157847991.jpg',\n",
       " '3330333217.jpg']"
      ]
     },
     "execution_count": 39,
     "metadata": {},
     "output_type": "execute_result"
    }
   ],
   "source": [
    "[i.text for i in results.nodes]"
   ]
  },
  {
   "cell_type": "code",
   "execution_count": null,
   "id": "faf03831-039b-42dc-ae1b-9ecf8a0b429f",
   "metadata": {},
   "outputs": [],
   "source": []
  },
  {
   "cell_type": "code",
   "execution_count": null,
   "id": "91f37852-f38b-4954-b670-522bd2edf1e5",
   "metadata": {},
   "outputs": [],
   "source": [
    "index = VectorStoreIndex.from_vector_store(vec_store, embed_model=embed_model)"
   ]
  },
  {
   "cell_type": "code",
   "execution_count": null,
   "id": "9733ae3e-c8bc-4434-8202-24b3b5c684fd",
   "metadata": {},
   "outputs": [],
   "source": []
  },
  {
   "cell_type": "code",
   "execution_count": 40,
   "id": "1feb145e-78d2-4245-beaf-53adabd65994",
   "metadata": {},
   "outputs": [],
   "source": [
    "mongo_client  = get_mongo_db_client()"
   ]
  },
  {
   "cell_type": "code",
   "execution_count": 41,
   "id": "750e8d69-ce48-434b-bed4-5772c6517106",
   "metadata": {},
   "outputs": [],
   "source": [
    "collection = mongo_client['chatbot_ui_v4']['caption']"
   ]
  },
  {
   "cell_type": "code",
   "execution_count": 42,
   "id": "ce75d232-398b-4e84-84a2-8eaa4f61eecc",
   "metadata": {},
   "outputs": [
    {
     "name": "stdout",
     "output_type": "stream",
     "text": [
      "{'_id': ObjectId('686b569ddc158f44299de34d'), 'sent_id': '0', 'caption': 'Two young guys with shaggy hair look at their hands while hanging out in the yard.', 'filename': '1000092795.jpg', 'img_id': '0'}\n",
      "{'_id': ObjectId('686b569ddc158f44299de34e'), 'sent_id': '1', 'caption': 'Two young, White males are outside near many bushes.', 'filename': '1000092795.jpg', 'img_id': '0'}\n",
      "{'_id': ObjectId('686b569ddc158f44299de34f'), 'sent_id': '2', 'caption': 'Two men in green shirts are standing in a yard.', 'filename': '1000092795.jpg', 'img_id': '0'}\n",
      "{'_id': ObjectId('686b569ddc158f44299de350'), 'sent_id': '3', 'caption': 'A man in a blue shirt standing in a garden.', 'filename': '1000092795.jpg', 'img_id': '0'}\n"
     ]
    }
   ],
   "source": [
    "docs = collection.find().limit(4)\n",
    "for i in docs:\n",
    "    print(i)"
   ]
  },
  {
   "cell_type": "code",
   "execution_count": null,
   "id": "21362633-1cc4-44f7-af29-7071be8af059",
   "metadata": {},
   "outputs": [],
   "source": []
  }
 ],
 "metadata": {
  "kernelspec": {
   "display_name": "Python 3 (ipykernel)",
   "language": "python",
   "name": "python3"
  },
  "language_info": {
   "codemirror_mode": {
    "name": "ipython",
    "version": 3
   },
   "file_extension": ".py",
   "mimetype": "text/x-python",
   "name": "python",
   "nbconvert_exporter": "python",
   "pygments_lexer": "ipython3",
   "version": "3.10.12"
  }
 },
 "nbformat": 4,
 "nbformat_minor": 5
}
